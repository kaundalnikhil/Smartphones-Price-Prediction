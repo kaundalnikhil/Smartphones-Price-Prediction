{
 "cells": [
  {
   "cell_type": "markdown",
   "id": "e692e518",
   "metadata": {},
   "source": [
    "# <font color='red'>Smartphones Price Prediction</font>"
   ]
  },
  {
   "cell_type": "markdown",
   "id": "bce74d49",
   "metadata": {},
   "source": [
    "# 1. Problem Statement"
   ]
  },
  {
   "cell_type": "markdown",
   "id": "967ccd74",
   "metadata": {},
   "source": [
    "In the rapidly evolving smartphone market, where consumers are inundated with a plethora of choices, determining an optimal pricing strategy is paramount for smartphone manufacturers. With fierce competition and ever-changing consumer preferences, accurately predicting smartphone prices can significantly impact a company's market positioning and profitability. \n",
    "\n",
    "The objective of this project is to develop a predictive model using regression techniques that can forecast smartphone prices based on various factors such as Brands, Colors, Memory, Storage, Rating,  Selling Price and Discount.<br>\n",
    "\n",
    "By leveraging advanced analytics and machine learning techniques, the model aims to provide insights to optimize pricing decisions, enhance competitiveness, and maximize revenue in the dynamic smartphone market landscape."
   ]
  },
  {
   "cell_type": "markdown",
   "id": "7d8850a3",
   "metadata": {},
   "source": [
    "# 2. Data Collection"
   ]
  },
  {
   "cell_type": "markdown",
   "id": "da27c38c",
   "metadata": {},
   "source": [
    "The dataset was collected from kaggle website.\n",
    "\n",
    "https://www.kaggle.com/datasets/yaminh/smartphone-sale-dataset/data"
   ]
  },
  {
   "cell_type": "markdown",
   "id": "82fc99ad",
   "metadata": {},
   "source": [
    "# 3. Importing Libraries"
   ]
  },
  {
   "cell_type": "code",
   "execution_count": 1,
   "id": "d4d7422a",
   "metadata": {},
   "outputs": [],
   "source": [
    "import numpy as np\n",
    "import pandas as pd\n",
    "import matplotlib.pyplot as plt\n",
    "import seaborn as sns\n",
    "\n",
    "from sklearn.model_selection import train_test_split\n",
    "from sklearn.preprocessing import StandardScaler\n",
    "from sklearn.metrics import  r2_score\n",
    "\n",
    "from sklearn.linear_model import LinearRegression\n",
    "from sklearn.ensemble import GradientBoostingRegressor, RandomForestRegressor\n",
    "from sklearn.tree import DecisionTreeRegressor\n",
    "\n",
    "import warnings\n",
    "warnings.filterwarnings('ignore')"
   ]
  },
  {
   "cell_type": "markdown",
   "id": "78467d49",
   "metadata": {},
   "source": [
    "# 4.Data Exploration"
   ]
  },
  {
   "cell_type": "markdown",
   "id": "151d8016",
   "metadata": {},
   "source": [
    "### Loading the dataset"
   ]
  },
  {
   "cell_type": "code",
   "execution_count": 2,
   "id": "4cacbf1a",
   "metadata": {},
   "outputs": [],
   "source": [
    "df = pd.read_csv('sales.csv')"
   ]
  },
  {
   "cell_type": "code",
   "execution_count": 3,
   "id": "b5505cfc",
   "metadata": {},
   "outputs": [
    {
     "data": {
      "text/html": [
       "<div>\n",
       "<style scoped>\n",
       "    .dataframe tbody tr th:only-of-type {\n",
       "        vertical-align: middle;\n",
       "    }\n",
       "\n",
       "    .dataframe tbody tr th {\n",
       "        vertical-align: top;\n",
       "    }\n",
       "\n",
       "    .dataframe thead th {\n",
       "        text-align: right;\n",
       "    }\n",
       "</style>\n",
       "<table border=\"1\" class=\"dataframe\">\n",
       "  <thead>\n",
       "    <tr style=\"text-align: right;\">\n",
       "      <th></th>\n",
       "      <th>Brands</th>\n",
       "      <th>Models</th>\n",
       "      <th>Colors</th>\n",
       "      <th>Memory</th>\n",
       "      <th>Storage</th>\n",
       "      <th>Camera</th>\n",
       "      <th>Rating</th>\n",
       "      <th>Selling Price</th>\n",
       "      <th>Original Price</th>\n",
       "      <th>Mobile</th>\n",
       "      <th>Discount</th>\n",
       "      <th>discount percentage</th>\n",
       "    </tr>\n",
       "  </thead>\n",
       "  <tbody>\n",
       "    <tr>\n",
       "      <th>0</th>\n",
       "      <td>SAMSUNG</td>\n",
       "      <td>GALAXY M31S</td>\n",
       "      <td>Mirage Black</td>\n",
       "      <td>8 GB</td>\n",
       "      <td>128 GB</td>\n",
       "      <td>Yes</td>\n",
       "      <td>4.3</td>\n",
       "      <td>19330</td>\n",
       "      <td>20999</td>\n",
       "      <td>SAMSUNG GALAXY M31S</td>\n",
       "      <td>1669</td>\n",
       "      <td>7.947998</td>\n",
       "    </tr>\n",
       "    <tr>\n",
       "      <th>1</th>\n",
       "      <td>Nokia</td>\n",
       "      <td>3.2</td>\n",
       "      <td>Steel</td>\n",
       "      <td>2 GB</td>\n",
       "      <td>16 GB</td>\n",
       "      <td>Yes</td>\n",
       "      <td>3.8</td>\n",
       "      <td>10199</td>\n",
       "      <td>10199</td>\n",
       "      <td>Nokia 3.2</td>\n",
       "      <td>0</td>\n",
       "      <td>0.000000</td>\n",
       "    </tr>\n",
       "    <tr>\n",
       "      <th>2</th>\n",
       "      <td>realme</td>\n",
       "      <td>C2</td>\n",
       "      <td>Diamond Black</td>\n",
       "      <td>2 GB</td>\n",
       "      <td>NaN</td>\n",
       "      <td>Yes</td>\n",
       "      <td>4.4</td>\n",
       "      <td>6999</td>\n",
       "      <td>7999</td>\n",
       "      <td>realme C2</td>\n",
       "      <td>1000</td>\n",
       "      <td>12.501563</td>\n",
       "    </tr>\n",
       "    <tr>\n",
       "      <th>3</th>\n",
       "      <td>Infinix</td>\n",
       "      <td>Note 5</td>\n",
       "      <td>Ice Blue</td>\n",
       "      <td>4 GB</td>\n",
       "      <td>64 GB</td>\n",
       "      <td>Yes</td>\n",
       "      <td>4.2</td>\n",
       "      <td>12999</td>\n",
       "      <td>12999</td>\n",
       "      <td>Infinix Note 5</td>\n",
       "      <td>0</td>\n",
       "      <td>0.000000</td>\n",
       "    </tr>\n",
       "    <tr>\n",
       "      <th>4</th>\n",
       "      <td>Apple</td>\n",
       "      <td>iPhone 11</td>\n",
       "      <td>Black</td>\n",
       "      <td>4GB</td>\n",
       "      <td>64 GB</td>\n",
       "      <td>Yes</td>\n",
       "      <td>4.6</td>\n",
       "      <td>49900</td>\n",
       "      <td>49900</td>\n",
       "      <td>Apple iPhone 11</td>\n",
       "      <td>0</td>\n",
       "      <td>0.000000</td>\n",
       "    </tr>\n",
       "  </tbody>\n",
       "</table>\n",
       "</div>"
      ],
      "text/plain": [
       "    Brands        Models         Colors Memory Storage Camera  Rating  \\\n",
       "0  SAMSUNG  GALAXY M31S    Mirage Black   8 GB  128 GB    Yes     4.3   \n",
       "1    Nokia           3.2          Steel   2 GB   16 GB    Yes     3.8   \n",
       "2   realme           C2   Diamond Black   2 GB     NaN    Yes     4.4   \n",
       "3  Infinix        Note 5       Ice Blue   4 GB   64 GB    Yes     4.2   \n",
       "4    Apple    iPhone 11           Black    4GB   64 GB    Yes     4.6   \n",
       "\n",
       "   Selling Price  Original Price                Mobile  Discount  \\\n",
       "0          19330           20999  SAMSUNG GALAXY M31S       1669   \n",
       "1          10199           10199             Nokia 3.2         0   \n",
       "2           6999            7999            realme C2       1000   \n",
       "3          12999           12999        Infinix Note 5         0   \n",
       "4          49900           49900      Apple iPhone 11          0   \n",
       "\n",
       "   discount percentage  \n",
       "0             7.947998  \n",
       "1             0.000000  \n",
       "2            12.501563  \n",
       "3             0.000000  \n",
       "4             0.000000  "
      ]
     },
     "execution_count": 3,
     "metadata": {},
     "output_type": "execute_result"
    }
   ],
   "source": [
    "df.head()"
   ]
  },
  {
   "cell_type": "markdown",
   "id": "e267266f",
   "metadata": {},
   "source": [
    "### Shape of the dataset"
   ]
  },
  {
   "cell_type": "code",
   "execution_count": 4,
   "id": "22c1a223",
   "metadata": {},
   "outputs": [
    {
     "data": {
      "text/plain": [
       "(3114, 12)"
      ]
     },
     "execution_count": 4,
     "metadata": {},
     "output_type": "execute_result"
    }
   ],
   "source": [
    "df.shape"
   ]
  },
  {
   "cell_type": "markdown",
   "id": "32b82734",
   "metadata": {},
   "source": [
    "The Datset consists of 12 features & 3114 samples."
   ]
  },
  {
   "cell_type": "markdown",
   "id": "f945f7fe",
   "metadata": {},
   "source": [
    "### Summary of the dataset"
   ]
  },
  {
   "cell_type": "code",
   "execution_count": 5,
   "id": "d5c1d3a6",
   "metadata": {},
   "outputs": [
    {
     "name": "stdout",
     "output_type": "stream",
     "text": [
      "<class 'pandas.core.frame.DataFrame'>\n",
      "RangeIndex: 3114 entries, 0 to 3113\n",
      "Data columns (total 12 columns):\n",
      " #   Column               Non-Null Count  Dtype  \n",
      "---  ------               --------------  -----  \n",
      " 0   Brands               3114 non-null   object \n",
      " 1   Models               3114 non-null   object \n",
      " 2   Colors               3114 non-null   object \n",
      " 3   Memory               3071 non-null   object \n",
      " 4   Storage              3075 non-null   object \n",
      " 5   Camera               3114 non-null   object \n",
      " 6   Rating               2970 non-null   float64\n",
      " 7   Selling Price        3114 non-null   int64  \n",
      " 8   Original Price       3114 non-null   int64  \n",
      " 9   Mobile               3114 non-null   object \n",
      " 10  Discount             3114 non-null   int64  \n",
      " 11  discount percentage  3114 non-null   float64\n",
      "dtypes: float64(2), int64(3), object(7)\n",
      "memory usage: 292.1+ KB\n"
     ]
    }
   ],
   "source": [
    "df.info()"
   ]
  },
  {
   "cell_type": "code",
   "execution_count": 6,
   "id": "0824a31b",
   "metadata": {
    "scrolled": true
   },
   "outputs": [
    {
     "data": {
      "text/html": [
       "<div>\n",
       "<style scoped>\n",
       "    .dataframe tbody tr th:only-of-type {\n",
       "        vertical-align: middle;\n",
       "    }\n",
       "\n",
       "    .dataframe tbody tr th {\n",
       "        vertical-align: top;\n",
       "    }\n",
       "\n",
       "    .dataframe thead th {\n",
       "        text-align: right;\n",
       "    }\n",
       "</style>\n",
       "<table border=\"1\" class=\"dataframe\">\n",
       "  <thead>\n",
       "    <tr style=\"text-align: right;\">\n",
       "      <th></th>\n",
       "      <th>Rating</th>\n",
       "      <th>Selling Price</th>\n",
       "      <th>Original Price</th>\n",
       "      <th>Discount</th>\n",
       "      <th>discount percentage</th>\n",
       "    </tr>\n",
       "  </thead>\n",
       "  <tbody>\n",
       "    <tr>\n",
       "      <th>count</th>\n",
       "      <td>2970.000000</td>\n",
       "      <td>3114.000000</td>\n",
       "      <td>3114.000000</td>\n",
       "      <td>3114.000000</td>\n",
       "      <td>3114.000000</td>\n",
       "    </tr>\n",
       "    <tr>\n",
       "      <th>mean</th>\n",
       "      <td>4.243098</td>\n",
       "      <td>26436.625562</td>\n",
       "      <td>28333.473025</td>\n",
       "      <td>1896.847463</td>\n",
       "      <td>6.086788</td>\n",
       "    </tr>\n",
       "    <tr>\n",
       "      <th>std</th>\n",
       "      <td>0.271991</td>\n",
       "      <td>30066.892622</td>\n",
       "      <td>31525.599889</td>\n",
       "      <td>5337.126176</td>\n",
       "      <td>11.106776</td>\n",
       "    </tr>\n",
       "    <tr>\n",
       "      <th>min</th>\n",
       "      <td>2.300000</td>\n",
       "      <td>1000.000000</td>\n",
       "      <td>1000.000000</td>\n",
       "      <td>-8000.000000</td>\n",
       "      <td>-160.320641</td>\n",
       "    </tr>\n",
       "    <tr>\n",
       "      <th>25%</th>\n",
       "      <td>4.100000</td>\n",
       "      <td>9990.000000</td>\n",
       "      <td>10030.250000</td>\n",
       "      <td>0.000000</td>\n",
       "      <td>0.000000</td>\n",
       "    </tr>\n",
       "    <tr>\n",
       "      <th>50%</th>\n",
       "      <td>4.300000</td>\n",
       "      <td>15000.000000</td>\n",
       "      <td>16889.500000</td>\n",
       "      <td>0.000000</td>\n",
       "      <td>0.000000</td>\n",
       "    </tr>\n",
       "    <tr>\n",
       "      <th>75%</th>\n",
       "      <td>4.400000</td>\n",
       "      <td>28999.000000</td>\n",
       "      <td>31500.000000</td>\n",
       "      <td>2000.000000</td>\n",
       "      <td>9.836388</td>\n",
       "    </tr>\n",
       "    <tr>\n",
       "      <th>max</th>\n",
       "      <td>5.000000</td>\n",
       "      <td>179900.000000</td>\n",
       "      <td>189999.000000</td>\n",
       "      <td>75000.000000</td>\n",
       "      <td>70.610305</td>\n",
       "    </tr>\n",
       "  </tbody>\n",
       "</table>\n",
       "</div>"
      ],
      "text/plain": [
       "            Rating  Selling Price  Original Price      Discount  \\\n",
       "count  2970.000000    3114.000000     3114.000000   3114.000000   \n",
       "mean      4.243098   26436.625562    28333.473025   1896.847463   \n",
       "std       0.271991   30066.892622    31525.599889   5337.126176   \n",
       "min       2.300000    1000.000000     1000.000000  -8000.000000   \n",
       "25%       4.100000    9990.000000    10030.250000      0.000000   \n",
       "50%       4.300000   15000.000000    16889.500000      0.000000   \n",
       "75%       4.400000   28999.000000    31500.000000   2000.000000   \n",
       "max       5.000000  179900.000000   189999.000000  75000.000000   \n",
       "\n",
       "       discount percentage  \n",
       "count          3114.000000  \n",
       "mean              6.086788  \n",
       "std              11.106776  \n",
       "min            -160.320641  \n",
       "25%               0.000000  \n",
       "50%               0.000000  \n",
       "75%               9.836388  \n",
       "max              70.610305  "
      ]
     },
     "execution_count": 6,
     "metadata": {},
     "output_type": "execute_result"
    }
   ],
   "source": [
    "df.describe()"
   ]
  },
  {
   "cell_type": "code",
   "execution_count": 7,
   "id": "f24a579b",
   "metadata": {},
   "outputs": [
    {
     "data": {
      "text/plain": [
       "Camera                   1\n",
       "Brands                  17\n",
       "Rating                  25\n",
       "Memory                  26\n",
       "Storage                 26\n",
       "Discount               267\n",
       "discount percentage    539\n",
       "Colors                 639\n",
       "Original Price         819\n",
       "Selling Price          844\n",
       "Models                 914\n",
       "Mobile                 928\n",
       "dtype: int64"
      ]
     },
     "execution_count": 7,
     "metadata": {},
     "output_type": "execute_result"
    }
   ],
   "source": [
    "df.nunique().sort_values()"
   ]
  },
  {
   "cell_type": "markdown",
   "id": "29fecf8c",
   "metadata": {},
   "source": [
    "### Columns present in dataset"
   ]
  },
  {
   "cell_type": "code",
   "execution_count": 8,
   "id": "6e953094",
   "metadata": {
    "scrolled": true
   },
   "outputs": [
    {
     "data": {
      "text/plain": [
       "Index(['Brands', 'Models', 'Colors', 'Memory', 'Storage', 'Camera', 'Rating',\n",
       "       'Selling Price', 'Original Price', 'Mobile', 'Discount',\n",
       "       'discount percentage'],\n",
       "      dtype='object')"
      ]
     },
     "execution_count": 8,
     "metadata": {},
     "output_type": "execute_result"
    }
   ],
   "source": [
    "df.columns"
   ]
  },
  {
   "cell_type": "markdown",
   "id": "7cbb3a68",
   "metadata": {},
   "source": [
    "\n",
    "Columns present in dataset are :\n",
    "\n",
    "- Brands: The brands of smartphones included in the dataset.\n",
    "- Models: Indicates the model name of the sepecific brand.\n",
    "- Colors: The colors available for the smartphones.\n",
    "- Memory: The storage capacity of the smartphones, typically measured in gigabytes (GB) or megabytes (MB).\n",
    "- Storage: The internal storage capacity of the smartphones, often measured in gigabytes (GB) or megabytes (MB).\n",
    "- Camera: Indicate weather camera is present in the device or not.\n",
    "- Rating: The user ratings or scores assigned to the smartphones, reflecting user satisfaction or performance.\n",
    "- Selling Price: The price at which the smartphones are sold to consumers.\n",
    "- Original Price: The original or list price of the smartphones before any discounts or promotions.\n",
    "- Mobile: Indicates the mame of the mobile phone.\n",
    "- Discount: The discount applied to the original price to calculate the selling price.\n",
    "- Discount percentage: The percentage discount applied to the original price to calculate the selling price."
   ]
  },
  {
   "cell_type": "markdown",
   "id": "3c59808a",
   "metadata": {},
   "source": [
    "# 5. Data Cleaning"
   ]
  },
  {
   "cell_type": "markdown",
   "id": "47b877e4",
   "metadata": {},
   "source": [
    "### 1.Checking null values"
   ]
  },
  {
   "cell_type": "code",
   "execution_count": 9,
   "id": "017f5804",
   "metadata": {},
   "outputs": [
    {
     "data": {
      "text/plain": [
       "Brands                   0\n",
       "Models                   0\n",
       "Colors                   0\n",
       "Memory                  43\n",
       "Storage                 39\n",
       "Camera                   0\n",
       "Rating                 144\n",
       "Selling Price            0\n",
       "Original Price           0\n",
       "Mobile                   0\n",
       "Discount                 0\n",
       "discount percentage      0\n",
       "dtype: int64"
      ]
     },
     "execution_count": 9,
     "metadata": {},
     "output_type": "execute_result"
    }
   ],
   "source": [
    "df.isnull().sum()"
   ]
  },
  {
   "cell_type": "markdown",
   "id": "9fd73aae",
   "metadata": {},
   "source": [
    "### 2. Imputing missing values"
   ]
  },
  {
   "cell_type": "code",
   "execution_count": 10,
   "id": "09fbe25c",
   "metadata": {},
   "outputs": [],
   "source": [
    "df['Rating'].fillna(df['Rating'].mean(), inplace=True)"
   ]
  },
  {
   "cell_type": "markdown",
   "id": "263cfb12",
   "metadata": {},
   "source": [
    "As 'Rating' column has large no of missing values those values were filled with the mean of the non-missing values of the column."
   ]
  },
  {
   "cell_type": "markdown",
   "id": "fe0f68e1",
   "metadata": {},
   "source": [
    "### 3.Dropping null values"
   ]
  },
  {
   "cell_type": "code",
   "execution_count": 11,
   "id": "3f1b08cd",
   "metadata": {},
   "outputs": [],
   "source": [
    "df=df.dropna()"
   ]
  },
  {
   "cell_type": "code",
   "execution_count": 12,
   "id": "3cdf32a8",
   "metadata": {},
   "outputs": [
    {
     "data": {
      "text/plain": [
       "(3032, 12)"
      ]
     },
     "execution_count": 12,
     "metadata": {},
     "output_type": "execute_result"
    }
   ],
   "source": [
    "df.shape"
   ]
  },
  {
   "cell_type": "markdown",
   "id": "06e6ecd8",
   "metadata": {},
   "source": [
    "82 samples were dropped from the dataset"
   ]
  },
  {
   "cell_type": "markdown",
   "id": "36539088",
   "metadata": {},
   "source": [
    "### 4.Dropping unwanted columns"
   ]
  },
  {
   "cell_type": "markdown",
   "id": "34c946c3",
   "metadata": {},
   "source": [
    "#### 1. Camera column"
   ]
  },
  {
   "cell_type": "code",
   "execution_count": 13,
   "id": "5037e336",
   "metadata": {},
   "outputs": [
    {
     "data": {
      "text/plain": [
       "Yes    3032\n",
       "Name: Camera, dtype: int64"
      ]
     },
     "execution_count": 13,
     "metadata": {},
     "output_type": "execute_result"
    }
   ],
   "source": [
    "df['Camera'].value_counts()"
   ]
  },
  {
   "cell_type": "code",
   "execution_count": 14,
   "id": "eba39701",
   "metadata": {},
   "outputs": [],
   "source": [
    "df = df.drop(columns=['Camera'])"
   ]
  },
  {
   "cell_type": "markdown",
   "id": "c291703b",
   "metadata": {},
   "source": [
    "AS all the devices have camera present, so i am droping the column."
   ]
  },
  {
   "cell_type": "markdown",
   "id": "73c27325",
   "metadata": {},
   "source": [
    "#### 2. Colors column"
   ]
  },
  {
   "cell_type": "code",
   "execution_count": 15,
   "id": "e634db80",
   "metadata": {},
   "outputs": [
    {
     "data": {
      "text/plain": [
       "Black                462\n",
       "Gold                 190\n",
       "White                154\n",
       "Blue                 146\n",
       "Silver                99\n",
       "                    ... \n",
       "Breeze Blue            1\n",
       "Iris Charcoal          1\n",
       "MAGIC BLUE             1\n",
       "Phantom Green          1\n",
       "Sapphire Gradient      1\n",
       "Name: Colors, Length: 637, dtype: int64"
      ]
     },
     "execution_count": 15,
     "metadata": {},
     "output_type": "execute_result"
    }
   ],
   "source": [
    "df['Colors'].value_counts()"
   ]
  },
  {
   "cell_type": "code",
   "execution_count": 16,
   "id": "2698292a",
   "metadata": {},
   "outputs": [],
   "source": [
    "df = df.drop(columns=['Colors'])"
   ]
  },
  {
   "cell_type": "markdown",
   "id": "6df80915",
   "metadata": {},
   "source": [
    "Each brand has its own set of color names, so I'm dropping the column."
   ]
  },
  {
   "cell_type": "markdown",
   "id": "00800d03",
   "metadata": {},
   "source": [
    "#### 3. Mobile & Model column"
   ]
  },
  {
   "cell_type": "code",
   "execution_count": 17,
   "id": "8173db66",
   "metadata": {},
   "outputs": [
    {
     "data": {
      "text/plain": [
       "Apple iPhone 11             36\n",
       "Apple iPhone XR             27\n",
       "Apple iPhone 11 Pro         21\n",
       "Apple iPhone 7              21\n",
       "Apple iPhone 7 Plus         20\n",
       "                            ..\n",
       "Google Pixel Very Silver     1\n",
       "Xiaomi Redmi 6               1\n",
       "LG K7i                       1\n",
       "OPPO A71 New Edition         1\n",
       "ASUS ROG Phone 5 Pro         1\n",
       "Name: Mobile, Length: 919, dtype: int64"
      ]
     },
     "execution_count": 17,
     "metadata": {},
     "output_type": "execute_result"
    }
   ],
   "source": [
    "df['Mobile'].value_counts()"
   ]
  },
  {
   "cell_type": "code",
   "execution_count": 18,
   "id": "1d58d4c8",
   "metadata": {},
   "outputs": [
    {
     "data": {
      "text/plain": [
       "iPhone 11           36\n",
       "iPhone XR           27\n",
       "3                   26\n",
       "iPhone 7            21\n",
       "iPhone 11 Pro       21\n",
       "                    ..\n",
       "Y83                  1\n",
       "Very Silver          1\n",
       "Redmi 6              1\n",
       "K7i                  1\n",
       "ROG Phone 5 Pro      1\n",
       "Name: Models, Length: 905, dtype: int64"
      ]
     },
     "execution_count": 18,
     "metadata": {},
     "output_type": "execute_result"
    }
   ],
   "source": [
    "df['Models'].value_counts()"
   ]
  },
  {
   "cell_type": "markdown",
   "id": "deb69ec4",
   "metadata": {},
   "source": [
    "Every Brands has different model and mobile.<br>\n",
    "So 'Mobile'and 'Models' column creates redundancy . Thus droping these column."
   ]
  },
  {
   "cell_type": "code",
   "execution_count": 19,
   "id": "6b89678a",
   "metadata": {},
   "outputs": [],
   "source": [
    "df = df.drop(columns=['Mobile'])"
   ]
  },
  {
   "cell_type": "code",
   "execution_count": 20,
   "id": "205fc836",
   "metadata": {},
   "outputs": [],
   "source": [
    "df = df.drop(columns=['Models'])"
   ]
  },
  {
   "cell_type": "markdown",
   "id": "70a79d2f",
   "metadata": {},
   "source": [
    "### 5.Checking values of columns"
   ]
  },
  {
   "cell_type": "markdown",
   "id": "ec172de1",
   "metadata": {},
   "source": [
    "#### 1. Memory column"
   ]
  },
  {
   "cell_type": "code",
   "execution_count": 21,
   "id": "6cd25fc7",
   "metadata": {},
   "outputs": [
    {
     "data": {
      "text/plain": [
       "4 GB      740\n",
       "6 GB      488\n",
       "3 GB      488\n",
       "2 GB      387\n",
       "8 GB      341\n",
       "1 GB      193\n",
       "4GB       137\n",
       "12 GB      61\n",
       "512 MB     46\n",
       "4 MB       39\n",
       "1.5 GB     29\n",
       "16 MB      16\n",
       "64 MB      15\n",
       "8 MB       14\n",
       "32 MB      14\n",
       "768 MB      6\n",
       "128 MB      4\n",
       "10 MB       3\n",
       "2 MB        2\n",
       "46 MB       2\n",
       "18 GB       2\n",
       "16 GB       2\n",
       "153 MB      1\n",
       "30 MB       1\n",
       "100 MB      1\n",
       "Name: Memory, dtype: int64"
      ]
     },
     "execution_count": 21,
     "metadata": {},
     "output_type": "execute_result"
    }
   ],
   "source": [
    "df['Memory'].value_counts()"
   ]
  },
  {
   "cell_type": "markdown",
   "id": "73258b45",
   "metadata": {},
   "source": [
    "Here we can see little problem with our dataset it's given 4GB . I will changed it to 4 GB"
   ]
  },
  {
   "cell_type": "code",
   "execution_count": 22,
   "id": "4d7390e9",
   "metadata": {},
   "outputs": [],
   "source": [
    "df['Memory'] = df['Memory'].replace('4GB', '4 GB')"
   ]
  },
  {
   "cell_type": "code",
   "execution_count": 23,
   "id": "80efe344",
   "metadata": {},
   "outputs": [
    {
     "data": {
      "text/plain": [
       "4 GB      877\n",
       "6 GB      488\n",
       "3 GB      488\n",
       "2 GB      387\n",
       "8 GB      341\n",
       "1 GB      193\n",
       "12 GB      61\n",
       "512 MB     46\n",
       "4 MB       39\n",
       "1.5 GB     29\n",
       "16 MB      16\n",
       "64 MB      15\n",
       "8 MB       14\n",
       "32 MB      14\n",
       "768 MB      6\n",
       "128 MB      4\n",
       "10 MB       3\n",
       "2 MB        2\n",
       "46 MB       2\n",
       "18 GB       2\n",
       "16 GB       2\n",
       "153 MB      1\n",
       "30 MB       1\n",
       "100 MB      1\n",
       "Name: Memory, dtype: int64"
      ]
     },
     "execution_count": 23,
     "metadata": {},
     "output_type": "execute_result"
    }
   ],
   "source": [
    "df['Memory'].value_counts()"
   ]
  },
  {
   "cell_type": "markdown",
   "id": "9440fe2e",
   "metadata": {},
   "source": [
    "#### 2. Storage column"
   ]
  },
  {
   "cell_type": "code",
   "execution_count": 24,
   "id": "970fc86b",
   "metadata": {},
   "outputs": [
    {
     "data": {
      "text/plain": [
       "64 GB                    772\n",
       "128 GB                   759\n",
       "32 GB                    555\n",
       "16 GB                    322\n",
       "256 GB                   234\n",
       "8 GB                     133\n",
       "512 GB                    63\n",
       "4 GB                      56\n",
       "4 MB                      28\n",
       "2 MB                      26\n",
       "16 MB                     14\n",
       "1 TB                      14\n",
       "128 MB                    12\n",
       "Expandable Upto 32 GB     10\n",
       "Expandable Upto 16 GB      7\n",
       "8 MB                       6\n",
       "64 MB                      3\n",
       "129 GB                     3\n",
       "256 MB                     3\n",
       "48 MB                      3\n",
       "512 MB                     2\n",
       "130 GB                     2\n",
       "100 MB                     2\n",
       "153 MB                     1\n",
       "10 MB                      1\n",
       "140 MB                     1\n",
       "Name: Storage, dtype: int64"
      ]
     },
     "execution_count": 24,
     "metadata": {},
     "output_type": "execute_result"
    }
   ],
   "source": [
    "df['Storage'].value_counts()"
   ]
  },
  {
   "cell_type": "code",
   "execution_count": 25,
   "id": "568830d7",
   "metadata": {},
   "outputs": [],
   "source": [
    "df['Storage'] = df['Storage'].str.replace('Expandable Upto ', '')"
   ]
  },
  {
   "cell_type": "code",
   "execution_count": 26,
   "id": "94708831",
   "metadata": {},
   "outputs": [
    {
     "data": {
      "text/plain": [
       "64 GB     772\n",
       "128 GB    759\n",
       "32 GB     565\n",
       "16 GB     329\n",
       "256 GB    234\n",
       "8 GB      133\n",
       "512 GB     63\n",
       "4 GB       56\n",
       "4 MB       28\n",
       "2 MB       26\n",
       "1 TB       14\n",
       "16 MB      14\n",
       "128 MB     12\n",
       "8 MB        6\n",
       "64 MB       3\n",
       "129 GB      3\n",
       "256 MB      3\n",
       "48 MB       3\n",
       "512 MB      2\n",
       "130 GB      2\n",
       "100 MB      2\n",
       "153 MB      1\n",
       "10 MB       1\n",
       "140 MB      1\n",
       "Name: Storage, dtype: int64"
      ]
     },
     "execution_count": 26,
     "metadata": {},
     "output_type": "execute_result"
    }
   ],
   "source": [
    "df['Storage'].value_counts()"
   ]
  },
  {
   "cell_type": "markdown",
   "id": "89d62ff7",
   "metadata": {},
   "source": [
    "# 6. Exploratory Data Analysis (EDA)"
   ]
  },
  {
   "cell_type": "markdown",
   "id": "9ae3b7d9",
   "metadata": {},
   "source": [
    "### Visualizing Distribution of memory column"
   ]
  },
  {
   "cell_type": "code",
   "execution_count": 27,
   "id": "1ff79e51",
   "metadata": {},
   "outputs": [
    {
     "data": {
      "image/png": "[encoded data removed]",
      "text/plain": [
       "<Figure size 1000x400 with 1 Axes>"
      ]
     },
     "metadata": {},
     "output_type": "display_data"
    }
   ],
   "source": [
    "plt.figure(figsize=(10, 4))\n",
    "df['Memory'].value_counts().plot(kind='bar')\n",
    "plt.title('Memory Distribution')\n",
    "plt.xlabel('Memory')\n",
    "plt.ylabel('Count')\n",
    "plt.xticks(rotation=45)\n",
    "plt.show()"
   ]
  },
  {
   "cell_type": "markdown",
   "id": "9341f2b0",
   "metadata": {},
   "source": [
    "### Visualizing Distribution of storage column"
   ]
  },
  {
   "cell_type": "code",
   "execution_count": 28,
   "id": "a91fd280",
   "metadata": {},
   "outputs": [
    {
     "data": {
      "image/png": "[encoded data removed]",
      "text/plain": [
       "<Figure size 1000x600 with 1 Axes>"
      ]
     },
     "metadata": {},
     "output_type": "display_data"
    }
   ],
   "source": [
    "plt.figure(figsize=(10, 6))\n",
    "df['Storage'].value_counts().plot(kind='bar')\n",
    "plt.title('Storage Distribution')\n",
    "plt.xlabel('Storage')\n",
    "plt.ylabel('Count')\n",
    "plt.xticks(rotation=45)\n",
    "plt.show()"
   ]
  },
  {
   "cell_type": "markdown",
   "id": "dc1c3962",
   "metadata": {},
   "source": [
    "### Visualizing Distribution of Selling Price"
   ]
  },
  {
   "cell_type": "code",
   "execution_count": 29,
   "id": "63f335d2",
   "metadata": {},
   "outputs": [
    {
     "data": {
      "image/png": "[encoded data removed]",
      "text/plain": [
       "<Figure size 1000x400 with 1 Axes>"
      ]
     },
     "metadata": {},
     "output_type": "display_data"
    }
   ],
   "source": [
    "plt.figure(figsize=[10,4])\n",
    "plt.title('Selling Price Distribution')\n",
    "sns.histplot(df['Selling Price'],kde=True)\n",
    "plt.show()"
   ]
  },
  {
   "cell_type": "markdown",
   "id": "393ddd70",
   "metadata": {},
   "source": [
    "### Visualizing Realationship b/w brand and selling price"
   ]
  },
  {
   "cell_type": "code",
   "execution_count": 30,
   "id": "81d9877e",
   "metadata": {},
   "outputs": [
    {
     "data": {
      "image/png": "[encoded data removed]",
      "text/plain": [
       "<Figure size 1200x800 with 1 Axes>"
      ]
     },
     "metadata": {},
     "output_type": "display_data"
    }
   ],
   "source": [
    "plt.figure(figsize=(12, 8))\n",
    "\n",
    "# Create a bar plot of Brand versus Original Price\n",
    "sns.barplot(x='Brands', y='Selling Price', data=df, ci=None, palette='viridis')\n",
    "\n",
    "plt.xlabel('Brands')\n",
    "plt.ylabel('Selling Price')\n",
    "plt.title('Brand vs Selling Price')\n",
    "plt.xticks(rotation=45)\n",
    "\n",
    "plt.show()"
   ]
  },
  {
   "cell_type": "markdown",
   "id": "75ece39f",
   "metadata": {},
   "source": [
    "### Correlation matrix of numerical variables"
   ]
  },
  {
   "cell_type": "code",
   "execution_count": 31,
   "id": "6735fda9",
   "metadata": {},
   "outputs": [
    {
     "data": {
      "image/png": "[encoded data removed]",
      "text/plain": [
       "<Figure size 1200x800 with 2 Axes>"
      ]
     },
     "metadata": {},
     "output_type": "display_data"
    }
   ],
   "source": [
    "numerical_df = df.select_dtypes(include=['float64', 'int64'])\n",
    "\n",
    "correlation_matrix = numerical_df.corr()\n",
    "\n",
    "plt.figure(figsize=(12, 8))\n",
    "sns.heatmap(correlation_matrix, annot=True, cmap='coolwarm', fmt=\".2f\", linewidths=0.5)\n",
    "\n",
    "plt.title('Correlation Matrix of Numerical Variables')\n",
    "plt.show()"
   ]
  },
  {
   "cell_type": "markdown",
   "id": "bc0e83da",
   "metadata": {},
   "source": [
    "AS we can see that Original Price and the Selling Price is Highly correlated, So I am Keeping one"
   ]
  },
  {
   "cell_type": "code",
   "execution_count": 32,
   "id": "fe6d9fce",
   "metadata": {},
   "outputs": [],
   "source": [
    "df = df.drop(columns=['Original Price'])"
   ]
  },
  {
   "cell_type": "markdown",
   "id": "33a079a7",
   "metadata": {},
   "source": [
    "# 7.Data Preprocessing"
   ]
  },
  {
   "cell_type": "markdown",
   "id": "88a4f14c",
   "metadata": {},
   "source": [
    "### 1. Converting Storage and Memory to MB format"
   ]
  },
  {
   "cell_type": "code",
   "execution_count": 33,
   "id": "3641d5b6",
   "metadata": {},
   "outputs": [],
   "source": [
    "# function to convert gb,tb, mb to mb\n",
    "def mbconverter(x):    \n",
    "    if \"GB\" in x:\n",
    "        x=x.replace(\"GB\",\"\")        \n",
    "        x=x.replace(\" \",\"\")   \n",
    "        size=float(x)*1024\n",
    "    elif \"MB\" in x:\n",
    "        x=x.replace(\"MB\",\"\")\n",
    "        x=x.replace(\" \",\"\")\n",
    "        size=float(x)\n",
    "    elif \"TB\" in x:\n",
    "        x=x.replace(\"TB\",\"\")\n",
    "        x=x.replace(\" \",\"\")\n",
    "        size=float(x)*1024*1024    \n",
    "    return size"
   ]
  },
  {
   "cell_type": "code",
   "execution_count": 34,
   "id": "eac553cb",
   "metadata": {},
   "outputs": [],
   "source": [
    "df['Memory']=df['Memory'].apply(mbconverter)"
   ]
  },
  {
   "cell_type": "code",
   "execution_count": 35,
   "id": "1a3d68a3",
   "metadata": {},
   "outputs": [],
   "source": [
    "df['Storage']=df['Storage'].apply(mbconverter)"
   ]
  },
  {
   "cell_type": "code",
   "execution_count": 36,
   "id": "1972dd39",
   "metadata": {},
   "outputs": [
    {
     "data": {
      "text/html": [
       "<div>\n",
       "<style scoped>\n",
       "    .dataframe tbody tr th:only-of-type {\n",
       "        vertical-align: middle;\n",
       "    }\n",
       "\n",
       "    .dataframe tbody tr th {\n",
       "        vertical-align: top;\n",
       "    }\n",
       "\n",
       "    .dataframe thead th {\n",
       "        text-align: right;\n",
       "    }\n",
       "</style>\n",
       "<table border=\"1\" class=\"dataframe\">\n",
       "  <thead>\n",
       "    <tr style=\"text-align: right;\">\n",
       "      <th></th>\n",
       "      <th>Brands</th>\n",
       "      <th>Memory</th>\n",
       "      <th>Storage</th>\n",
       "      <th>Rating</th>\n",
       "      <th>Selling Price</th>\n",
       "      <th>Discount</th>\n",
       "      <th>discount percentage</th>\n",
       "    </tr>\n",
       "  </thead>\n",
       "  <tbody>\n",
       "    <tr>\n",
       "      <th>0</th>\n",
       "      <td>SAMSUNG</td>\n",
       "      <td>8192.0</td>\n",
       "      <td>131072.0</td>\n",
       "      <td>4.300000</td>\n",
       "      <td>19330</td>\n",
       "      <td>1669</td>\n",
       "      <td>7.947998</td>\n",
       "    </tr>\n",
       "    <tr>\n",
       "      <th>1</th>\n",
       "      <td>Nokia</td>\n",
       "      <td>2048.0</td>\n",
       "      <td>16384.0</td>\n",
       "      <td>3.800000</td>\n",
       "      <td>10199</td>\n",
       "      <td>0</td>\n",
       "      <td>0.000000</td>\n",
       "    </tr>\n",
       "    <tr>\n",
       "      <th>3</th>\n",
       "      <td>Infinix</td>\n",
       "      <td>4096.0</td>\n",
       "      <td>65536.0</td>\n",
       "      <td>4.200000</td>\n",
       "      <td>12999</td>\n",
       "      <td>0</td>\n",
       "      <td>0.000000</td>\n",
       "    </tr>\n",
       "    <tr>\n",
       "      <th>4</th>\n",
       "      <td>Apple</td>\n",
       "      <td>4096.0</td>\n",
       "      <td>65536.0</td>\n",
       "      <td>4.600000</td>\n",
       "      <td>49900</td>\n",
       "      <td>0</td>\n",
       "      <td>0.000000</td>\n",
       "    </tr>\n",
       "    <tr>\n",
       "      <th>5</th>\n",
       "      <td>GIONEE</td>\n",
       "      <td>8.0</td>\n",
       "      <td>16.0</td>\n",
       "      <td>4.000000</td>\n",
       "      <td>2199</td>\n",
       "      <td>0</td>\n",
       "      <td>0.000000</td>\n",
       "    </tr>\n",
       "    <tr>\n",
       "      <th>...</th>\n",
       "      <td>...</td>\n",
       "      <td>...</td>\n",
       "      <td>...</td>\n",
       "      <td>...</td>\n",
       "      <td>...</td>\n",
       "      <td>...</td>\n",
       "      <td>...</td>\n",
       "    </tr>\n",
       "    <tr>\n",
       "      <th>3108</th>\n",
       "      <td>SAMSUNG</td>\n",
       "      <td>4.0</td>\n",
       "      <td>2.0</td>\n",
       "      <td>4.200000</td>\n",
       "      <td>2299</td>\n",
       "      <td>0</td>\n",
       "      <td>0.000000</td>\n",
       "    </tr>\n",
       "    <tr>\n",
       "      <th>3109</th>\n",
       "      <td>POCO</td>\n",
       "      <td>6144.0</td>\n",
       "      <td>131072.0</td>\n",
       "      <td>4.400000</td>\n",
       "      <td>16999</td>\n",
       "      <td>3000</td>\n",
       "      <td>15.000750</td>\n",
       "    </tr>\n",
       "    <tr>\n",
       "      <th>3111</th>\n",
       "      <td>Apple</td>\n",
       "      <td>2048.0</td>\n",
       "      <td>131072.0</td>\n",
       "      <td>4.500000</td>\n",
       "      <td>44900</td>\n",
       "      <td>0</td>\n",
       "      <td>0.000000</td>\n",
       "    </tr>\n",
       "    <tr>\n",
       "      <th>3112</th>\n",
       "      <td>Apple</td>\n",
       "      <td>6144.0</td>\n",
       "      <td>131072.0</td>\n",
       "      <td>4.243098</td>\n",
       "      <td>119900</td>\n",
       "      <td>0</td>\n",
       "      <td>0.000000</td>\n",
       "    </tr>\n",
       "    <tr>\n",
       "      <th>3113</th>\n",
       "      <td>GIONEE</td>\n",
       "      <td>3072.0</td>\n",
       "      <td>32768.0</td>\n",
       "      <td>4.200000</td>\n",
       "      <td>7900</td>\n",
       "      <td>0</td>\n",
       "      <td>0.000000</td>\n",
       "    </tr>\n",
       "  </tbody>\n",
       "</table>\n",
       "<p>3032 rows × 7 columns</p>\n",
       "</div>"
      ],
      "text/plain": [
       "       Brands  Memory   Storage    Rating  Selling Price  Discount  \\\n",
       "0     SAMSUNG  8192.0  131072.0  4.300000          19330      1669   \n",
       "1       Nokia  2048.0   16384.0  3.800000          10199         0   \n",
       "3     Infinix  4096.0   65536.0  4.200000          12999         0   \n",
       "4       Apple  4096.0   65536.0  4.600000          49900         0   \n",
       "5      GIONEE     8.0      16.0  4.000000           2199         0   \n",
       "...       ...     ...       ...       ...            ...       ...   \n",
       "3108  SAMSUNG     4.0       2.0  4.200000           2299         0   \n",
       "3109     POCO  6144.0  131072.0  4.400000          16999      3000   \n",
       "3111    Apple  2048.0  131072.0  4.500000          44900         0   \n",
       "3112    Apple  6144.0  131072.0  4.243098         119900         0   \n",
       "3113   GIONEE  3072.0   32768.0  4.200000           7900         0   \n",
       "\n",
       "      discount percentage  \n",
       "0                7.947998  \n",
       "1                0.000000  \n",
       "3                0.000000  \n",
       "4                0.000000  \n",
       "5                0.000000  \n",
       "...                   ...  \n",
       "3108             0.000000  \n",
       "3109            15.000750  \n",
       "3111             0.000000  \n",
       "3112             0.000000  \n",
       "3113             0.000000  \n",
       "\n",
       "[3032 rows x 7 columns]"
      ]
     },
     "execution_count": 36,
     "metadata": {},
     "output_type": "execute_result"
    }
   ],
   "source": [
    "df"
   ]
  },
  {
   "cell_type": "markdown",
   "id": "e9503c5a",
   "metadata": {},
   "source": [
    "### 2. One-hot encoding"
   ]
  },
  {
   "cell_type": "code",
   "execution_count": 37,
   "id": "474c88bd",
   "metadata": {},
   "outputs": [
    {
     "data": {
      "text/html": [
       "<div>\n",
       "<style scoped>\n",
       "    .dataframe tbody tr th:only-of-type {\n",
       "        vertical-align: middle;\n",
       "    }\n",
       "\n",
       "    .dataframe tbody tr th {\n",
       "        vertical-align: top;\n",
       "    }\n",
       "\n",
       "    .dataframe thead th {\n",
       "        text-align: right;\n",
       "    }\n",
       "</style>\n",
       "<table border=\"1\" class=\"dataframe\">\n",
       "  <thead>\n",
       "    <tr style=\"text-align: right;\">\n",
       "      <th></th>\n",
       "      <th>Brands</th>\n",
       "      <th>Memory</th>\n",
       "      <th>Storage</th>\n",
       "      <th>Rating</th>\n",
       "      <th>Selling Price</th>\n",
       "      <th>Discount</th>\n",
       "      <th>discount percentage</th>\n",
       "      <th>Brand_ASUS</th>\n",
       "      <th>Brand_Apple</th>\n",
       "      <th>Brand_GIONEE</th>\n",
       "      <th>...</th>\n",
       "      <th>Brand_LG</th>\n",
       "      <th>Brand_Lenovo</th>\n",
       "      <th>Brand_Motorola</th>\n",
       "      <th>Brand_Nokia</th>\n",
       "      <th>Brand_OPPO</th>\n",
       "      <th>Brand_POCO</th>\n",
       "      <th>Brand_SAMSUNG</th>\n",
       "      <th>Brand_Xiaomi</th>\n",
       "      <th>Brand_realme</th>\n",
       "      <th>Brand_vivo</th>\n",
       "    </tr>\n",
       "  </thead>\n",
       "  <tbody>\n",
       "    <tr>\n",
       "      <th>0</th>\n",
       "      <td>SAMSUNG</td>\n",
       "      <td>8192.0</td>\n",
       "      <td>131072.0</td>\n",
       "      <td>4.3</td>\n",
       "      <td>19330</td>\n",
       "      <td>1669</td>\n",
       "      <td>7.947998</td>\n",
       "      <td>0</td>\n",
       "      <td>0</td>\n",
       "      <td>0</td>\n",
       "      <td>...</td>\n",
       "      <td>0</td>\n",
       "      <td>0</td>\n",
       "      <td>0</td>\n",
       "      <td>0</td>\n",
       "      <td>0</td>\n",
       "      <td>0</td>\n",
       "      <td>1</td>\n",
       "      <td>0</td>\n",
       "      <td>0</td>\n",
       "      <td>0</td>\n",
       "    </tr>\n",
       "    <tr>\n",
       "      <th>1</th>\n",
       "      <td>Nokia</td>\n",
       "      <td>2048.0</td>\n",
       "      <td>16384.0</td>\n",
       "      <td>3.8</td>\n",
       "      <td>10199</td>\n",
       "      <td>0</td>\n",
       "      <td>0.000000</td>\n",
       "      <td>0</td>\n",
       "      <td>0</td>\n",
       "      <td>0</td>\n",
       "      <td>...</td>\n",
       "      <td>0</td>\n",
       "      <td>0</td>\n",
       "      <td>0</td>\n",
       "      <td>1</td>\n",
       "      <td>0</td>\n",
       "      <td>0</td>\n",
       "      <td>0</td>\n",
       "      <td>0</td>\n",
       "      <td>0</td>\n",
       "      <td>0</td>\n",
       "    </tr>\n",
       "    <tr>\n",
       "      <th>3</th>\n",
       "      <td>Infinix</td>\n",
       "      <td>4096.0</td>\n",
       "      <td>65536.0</td>\n",
       "      <td>4.2</td>\n",
       "      <td>12999</td>\n",
       "      <td>0</td>\n",
       "      <td>0.000000</td>\n",
       "      <td>0</td>\n",
       "      <td>0</td>\n",
       "      <td>0</td>\n",
       "      <td>...</td>\n",
       "      <td>0</td>\n",
       "      <td>0</td>\n",
       "      <td>0</td>\n",
       "      <td>0</td>\n",
       "      <td>0</td>\n",
       "      <td>0</td>\n",
       "      <td>0</td>\n",
       "      <td>0</td>\n",
       "      <td>0</td>\n",
       "      <td>0</td>\n",
       "    </tr>\n",
       "    <tr>\n",
       "      <th>4</th>\n",
       "      <td>Apple</td>\n",
       "      <td>4096.0</td>\n",
       "      <td>65536.0</td>\n",
       "      <td>4.6</td>\n",
       "      <td>49900</td>\n",
       "      <td>0</td>\n",
       "      <td>0.000000</td>\n",
       "      <td>0</td>\n",
       "      <td>1</td>\n",
       "      <td>0</td>\n",
       "      <td>...</td>\n",
       "      <td>0</td>\n",
       "      <td>0</td>\n",
       "      <td>0</td>\n",
       "      <td>0</td>\n",
       "      <td>0</td>\n",
       "      <td>0</td>\n",
       "      <td>0</td>\n",
       "      <td>0</td>\n",
       "      <td>0</td>\n",
       "      <td>0</td>\n",
       "    </tr>\n",
       "    <tr>\n",
       "      <th>5</th>\n",
       "      <td>GIONEE</td>\n",
       "      <td>8.0</td>\n",
       "      <td>16.0</td>\n",
       "      <td>4.0</td>\n",
       "      <td>2199</td>\n",
       "      <td>0</td>\n",
       "      <td>0.000000</td>\n",
       "      <td>0</td>\n",
       "      <td>0</td>\n",
       "      <td>1</td>\n",
       "      <td>...</td>\n",
       "      <td>0</td>\n",
       "      <td>0</td>\n",
       "      <td>0</td>\n",
       "      <td>0</td>\n",
       "      <td>0</td>\n",
       "      <td>0</td>\n",
       "      <td>0</td>\n",
       "      <td>0</td>\n",
       "      <td>0</td>\n",
       "      <td>0</td>\n",
       "    </tr>\n",
       "  </tbody>\n",
       "</table>\n",
       "<p>5 rows × 24 columns</p>\n",
       "</div>"
      ],
      "text/plain": [
       "    Brands  Memory   Storage  Rating  Selling Price  Discount  \\\n",
       "0  SAMSUNG  8192.0  131072.0     4.3          19330      1669   \n",
       "1    Nokia  2048.0   16384.0     3.8          10199         0   \n",
       "3  Infinix  4096.0   65536.0     4.2          12999         0   \n",
       "4    Apple  4096.0   65536.0     4.6          49900         0   \n",
       "5   GIONEE     8.0      16.0     4.0           2199         0   \n",
       "\n",
       "   discount percentage  Brand_ASUS  Brand_Apple  Brand_GIONEE  ...  Brand_LG  \\\n",
       "0             7.947998           0            0             0  ...         0   \n",
       "1             0.000000           0            0             0  ...         0   \n",
       "3             0.000000           0            0             0  ...         0   \n",
       "4             0.000000           0            1             0  ...         0   \n",
       "5             0.000000           0            0             1  ...         0   \n",
       "\n",
       "   Brand_Lenovo  Brand_Motorola  Brand_Nokia  Brand_OPPO  Brand_POCO  \\\n",
       "0             0               0            0           0           0   \n",
       "1             0               0            1           0           0   \n",
       "3             0               0            0           0           0   \n",
       "4             0               0            0           0           0   \n",
       "5             0               0            0           0           0   \n",
       "\n",
       "   Brand_SAMSUNG  Brand_Xiaomi  Brand_realme  Brand_vivo  \n",
       "0              1             0             0           0  \n",
       "1              0             0             0           0  \n",
       "3              0             0             0           0  \n",
       "4              0             0             0           0  \n",
       "5              0             0             0           0  \n",
       "\n",
       "[5 rows x 24 columns]"
      ]
     },
     "execution_count": 37,
     "metadata": {},
     "output_type": "execute_result"
    }
   ],
   "source": [
    "brand_encoded = pd.get_dummies(df['Brands'], prefix='Brand').astype(int)\n",
    "\n",
    "df = pd.concat([df, brand_encoded], axis=1)\n",
    "\n",
    "df.head()\n"
   ]
  },
  {
   "cell_type": "code",
   "execution_count": 38,
   "id": "5eebe8e3",
   "metadata": {},
   "outputs": [],
   "source": [
    "df = df.drop(columns=['Brands'])"
   ]
  },
  {
   "cell_type": "markdown",
   "id": "97780eb7",
   "metadata": {},
   "source": [
    "created new features using one-hot encoding of column brand and then droping the brand column"
   ]
  },
  {
   "cell_type": "code",
   "execution_count": 39,
   "id": "b3a3edfb",
   "metadata": {},
   "outputs": [
    {
     "data": {
      "text/html": [
       "<div>\n",
       "<style scoped>\n",
       "    .dataframe tbody tr th:only-of-type {\n",
       "        vertical-align: middle;\n",
       "    }\n",
       "\n",
       "    .dataframe tbody tr th {\n",
       "        vertical-align: top;\n",
       "    }\n",
       "\n",
       "    .dataframe thead th {\n",
       "        text-align: right;\n",
       "    }\n",
       "</style>\n",
       "<table border=\"1\" class=\"dataframe\">\n",
       "  <thead>\n",
       "    <tr style=\"text-align: right;\">\n",
       "      <th></th>\n",
       "      <th>Memory</th>\n",
       "      <th>Storage</th>\n",
       "      <th>Rating</th>\n",
       "      <th>Selling Price</th>\n",
       "      <th>Discount</th>\n",
       "      <th>discount percentage</th>\n",
       "      <th>Brand_ASUS</th>\n",
       "      <th>Brand_Apple</th>\n",
       "      <th>Brand_GIONEE</th>\n",
       "      <th>Brand_Google Pixel</th>\n",
       "      <th>...</th>\n",
       "      <th>Brand_LG</th>\n",
       "      <th>Brand_Lenovo</th>\n",
       "      <th>Brand_Motorola</th>\n",
       "      <th>Brand_Nokia</th>\n",
       "      <th>Brand_OPPO</th>\n",
       "      <th>Brand_POCO</th>\n",
       "      <th>Brand_SAMSUNG</th>\n",
       "      <th>Brand_Xiaomi</th>\n",
       "      <th>Brand_realme</th>\n",
       "      <th>Brand_vivo</th>\n",
       "    </tr>\n",
       "  </thead>\n",
       "  <tbody>\n",
       "    <tr>\n",
       "      <th>0</th>\n",
       "      <td>8192.0</td>\n",
       "      <td>131072.0</td>\n",
       "      <td>4.3</td>\n",
       "      <td>19330</td>\n",
       "      <td>1669</td>\n",
       "      <td>7.947998</td>\n",
       "      <td>0</td>\n",
       "      <td>0</td>\n",
       "      <td>0</td>\n",
       "      <td>0</td>\n",
       "      <td>...</td>\n",
       "      <td>0</td>\n",
       "      <td>0</td>\n",
       "      <td>0</td>\n",
       "      <td>0</td>\n",
       "      <td>0</td>\n",
       "      <td>0</td>\n",
       "      <td>1</td>\n",
       "      <td>0</td>\n",
       "      <td>0</td>\n",
       "      <td>0</td>\n",
       "    </tr>\n",
       "    <tr>\n",
       "      <th>1</th>\n",
       "      <td>2048.0</td>\n",
       "      <td>16384.0</td>\n",
       "      <td>3.8</td>\n",
       "      <td>10199</td>\n",
       "      <td>0</td>\n",
       "      <td>0.000000</td>\n",
       "      <td>0</td>\n",
       "      <td>0</td>\n",
       "      <td>0</td>\n",
       "      <td>0</td>\n",
       "      <td>...</td>\n",
       "      <td>0</td>\n",
       "      <td>0</td>\n",
       "      <td>0</td>\n",
       "      <td>1</td>\n",
       "      <td>0</td>\n",
       "      <td>0</td>\n",
       "      <td>0</td>\n",
       "      <td>0</td>\n",
       "      <td>0</td>\n",
       "      <td>0</td>\n",
       "    </tr>\n",
       "    <tr>\n",
       "      <th>3</th>\n",
       "      <td>4096.0</td>\n",
       "      <td>65536.0</td>\n",
       "      <td>4.2</td>\n",
       "      <td>12999</td>\n",
       "      <td>0</td>\n",
       "      <td>0.000000</td>\n",
       "      <td>0</td>\n",
       "      <td>0</td>\n",
       "      <td>0</td>\n",
       "      <td>0</td>\n",
       "      <td>...</td>\n",
       "      <td>0</td>\n",
       "      <td>0</td>\n",
       "      <td>0</td>\n",
       "      <td>0</td>\n",
       "      <td>0</td>\n",
       "      <td>0</td>\n",
       "      <td>0</td>\n",
       "      <td>0</td>\n",
       "      <td>0</td>\n",
       "      <td>0</td>\n",
       "    </tr>\n",
       "    <tr>\n",
       "      <th>4</th>\n",
       "      <td>4096.0</td>\n",
       "      <td>65536.0</td>\n",
       "      <td>4.6</td>\n",
       "      <td>49900</td>\n",
       "      <td>0</td>\n",
       "      <td>0.000000</td>\n",
       "      <td>0</td>\n",
       "      <td>1</td>\n",
       "      <td>0</td>\n",
       "      <td>0</td>\n",
       "      <td>...</td>\n",
       "      <td>0</td>\n",
       "      <td>0</td>\n",
       "      <td>0</td>\n",
       "      <td>0</td>\n",
       "      <td>0</td>\n",
       "      <td>0</td>\n",
       "      <td>0</td>\n",
       "      <td>0</td>\n",
       "      <td>0</td>\n",
       "      <td>0</td>\n",
       "    </tr>\n",
       "    <tr>\n",
       "      <th>5</th>\n",
       "      <td>8.0</td>\n",
       "      <td>16.0</td>\n",
       "      <td>4.0</td>\n",
       "      <td>2199</td>\n",
       "      <td>0</td>\n",
       "      <td>0.000000</td>\n",
       "      <td>0</td>\n",
       "      <td>0</td>\n",
       "      <td>1</td>\n",
       "      <td>0</td>\n",
       "      <td>...</td>\n",
       "      <td>0</td>\n",
       "      <td>0</td>\n",
       "      <td>0</td>\n",
       "      <td>0</td>\n",
       "      <td>0</td>\n",
       "      <td>0</td>\n",
       "      <td>0</td>\n",
       "      <td>0</td>\n",
       "      <td>0</td>\n",
       "      <td>0</td>\n",
       "    </tr>\n",
       "  </tbody>\n",
       "</table>\n",
       "<p>5 rows × 23 columns</p>\n",
       "</div>"
      ],
      "text/plain": [
       "   Memory   Storage  Rating  Selling Price  Discount  discount percentage  \\\n",
       "0  8192.0  131072.0     4.3          19330      1669             7.947998   \n",
       "1  2048.0   16384.0     3.8          10199         0             0.000000   \n",
       "3  4096.0   65536.0     4.2          12999         0             0.000000   \n",
       "4  4096.0   65536.0     4.6          49900         0             0.000000   \n",
       "5     8.0      16.0     4.0           2199         0             0.000000   \n",
       "\n",
       "   Brand_ASUS  Brand_Apple  Brand_GIONEE  Brand_Google Pixel  ...  Brand_LG  \\\n",
       "0           0            0             0                   0  ...         0   \n",
       "1           0            0             0                   0  ...         0   \n",
       "3           0            0             0                   0  ...         0   \n",
       "4           0            1             0                   0  ...         0   \n",
       "5           0            0             1                   0  ...         0   \n",
       "\n",
       "   Brand_Lenovo  Brand_Motorola  Brand_Nokia  Brand_OPPO  Brand_POCO  \\\n",
       "0             0               0            0           0           0   \n",
       "1             0               0            1           0           0   \n",
       "3             0               0            0           0           0   \n",
       "4             0               0            0           0           0   \n",
       "5             0               0            0           0           0   \n",
       "\n",
       "   Brand_SAMSUNG  Brand_Xiaomi  Brand_realme  Brand_vivo  \n",
       "0              1             0             0           0  \n",
       "1              0             0             0           0  \n",
       "3              0             0             0           0  \n",
       "4              0             0             0           0  \n",
       "5              0             0             0           0  \n",
       "\n",
       "[5 rows x 23 columns]"
      ]
     },
     "execution_count": 39,
     "metadata": {},
     "output_type": "execute_result"
    }
   ],
   "source": [
    "df.head()"
   ]
  },
  {
   "cell_type": "code",
   "execution_count": 40,
   "id": "a3a45419",
   "metadata": {},
   "outputs": [
    {
     "name": "stdout",
     "output_type": "stream",
     "text": [
      "<class 'pandas.core.frame.DataFrame'>\n",
      "Int64Index: 3032 entries, 0 to 3113\n",
      "Data columns (total 23 columns):\n",
      " #   Column               Non-Null Count  Dtype  \n",
      "---  ------               --------------  -----  \n",
      " 0   Memory               3032 non-null   float64\n",
      " 1   Storage              3032 non-null   float64\n",
      " 2   Rating               3032 non-null   float64\n",
      " 3   Selling Price        3032 non-null   int64  \n",
      " 4   Discount             3032 non-null   int64  \n",
      " 5   discount percentage  3032 non-null   float64\n",
      " 6   Brand_ASUS           3032 non-null   int32  \n",
      " 7   Brand_Apple          3032 non-null   int32  \n",
      " 8   Brand_GIONEE         3032 non-null   int32  \n",
      " 9   Brand_Google Pixel   3032 non-null   int32  \n",
      " 10  Brand_HTC            3032 non-null   int32  \n",
      " 11  Brand_IQOO           3032 non-null   int32  \n",
      " 12  Brand_Infinix        3032 non-null   int32  \n",
      " 13  Brand_LG             3032 non-null   int32  \n",
      " 14  Brand_Lenovo         3032 non-null   int32  \n",
      " 15  Brand_Motorola       3032 non-null   int32  \n",
      " 16  Brand_Nokia          3032 non-null   int32  \n",
      " 17  Brand_OPPO           3032 non-null   int32  \n",
      " 18  Brand_POCO           3032 non-null   int32  \n",
      " 19  Brand_SAMSUNG        3032 non-null   int32  \n",
      " 20  Brand_Xiaomi         3032 non-null   int32  \n",
      " 21  Brand_realme         3032 non-null   int32  \n",
      " 22  Brand_vivo           3032 non-null   int32  \n",
      "dtypes: float64(4), int32(17), int64(2)\n",
      "memory usage: 367.2 KB\n"
     ]
    }
   ],
   "source": [
    "df.info()"
   ]
  },
  {
   "cell_type": "markdown",
   "id": "7769eaf8",
   "metadata": {},
   "source": [
    "### 3 .Train and test split"
   ]
  },
  {
   "cell_type": "code",
   "execution_count": 41,
   "id": "b59264f9",
   "metadata": {},
   "outputs": [],
   "source": [
    "X = df.drop(columns=['Selling Price'])\n",
    "y = df['Selling Price']"
   ]
  },
  {
   "cell_type": "markdown",
   "id": "631886c4",
   "metadata": {},
   "source": [
    "creating x and y varibles for training and testing the dataset"
   ]
  },
  {
   "cell_type": "code",
   "execution_count": 42,
   "id": "0de1cc30",
   "metadata": {},
   "outputs": [],
   "source": [
    "X_train, X_test, y_train, y_test = train_test_split(X, y, test_size=0.2, random_state=100)"
   ]
  },
  {
   "cell_type": "markdown",
   "id": "2c01a13b",
   "metadata": {},
   "source": [
    "splitting data into training and testing datasets for model building"
   ]
  },
  {
   "cell_type": "code",
   "execution_count": 43,
   "id": "9665373c",
   "metadata": {},
   "outputs": [],
   "source": [
    "scaler = StandardScaler()"
   ]
  },
  {
   "cell_type": "code",
   "execution_count": 44,
   "id": "c72fd273",
   "metadata": {},
   "outputs": [],
   "source": [
    "X_train = scaler.fit_transform(X_train)\n",
    "X_test = scaler.transform(X_test)"
   ]
  },
  {
   "cell_type": "markdown",
   "id": "efca6e5b",
   "metadata": {},
   "source": [
    "performed standardization to scale the features"
   ]
  },
  {
   "cell_type": "code",
   "execution_count": 45,
   "id": "52ff3438",
   "metadata": {},
   "outputs": [
    {
     "name": "stdout",
     "output_type": "stream",
     "text": [
      "X_train_scaled shape: (2425, 22)\n",
      "X_test_scaled shape: (607, 22)\n",
      "y_train shape: (2425,)\n",
      "y_test shape: (607,)\n"
     ]
    }
   ],
   "source": [
    "print(\"X_train_scaled shape:\", X_train.shape)\n",
    "print(\"X_test_scaled shape:\", X_test.shape)\n",
    "print(\"y_train shape:\", y_train.shape)\n",
    "print(\"y_test shape:\", y_test.shape)"
   ]
  },
  {
   "cell_type": "markdown",
   "id": "3fcff655",
   "metadata": {},
   "source": [
    "# 8. Model Evaluation"
   ]
  },
  {
   "cell_type": "markdown",
   "id": "fcff8be0",
   "metadata": {},
   "source": [
    "Empoloying different model to calculate the mean squared error and the coefficient of determination(r2 score)"
   ]
  },
  {
   "cell_type": "markdown",
   "id": "b3d9b7b3",
   "metadata": {},
   "source": [
    "### 1.Linear Regression"
   ]
  },
  {
   "cell_type": "code",
   "execution_count": 46,
   "id": "958b523f",
   "metadata": {},
   "outputs": [
    {
     "name": "stdout",
     "output_type": "stream",
     "text": [
      "R-squared: 0.8020877722575024\n"
     ]
    }
   ],
   "source": [
    "model = LinearRegression()\n",
    "\n",
    "model.fit(X_train, y_train)\n",
    "y_pred = model.predict(X_test)\n",
    "\n",
    "r_squared = r2_score(y_test, y_pred)\n",
    "\n",
    "print(\"R-squared:\", r_squared)"
   ]
  },
  {
   "cell_type": "markdown",
   "id": "14a72458",
   "metadata": {},
   "source": [
    "### 2.Decision Tree Regression"
   ]
  },
  {
   "cell_type": "code",
   "execution_count": 47,
   "id": "ecc1861a",
   "metadata": {},
   "outputs": [
    {
     "name": "stdout",
     "output_type": "stream",
     "text": [
      "Decision Tree Regression:\n",
      "R-squared: 0.9265946156608781\n"
     ]
    }
   ],
   "source": [
    "model = DecisionTreeRegressor(random_state=100)\n",
    "\n",
    "model.fit(X_train, y_train)\n",
    "y_pred = model.predict(X_test)\n",
    "\n",
    "r_squared = r2_score(y_test, y_pred)\n",
    "\n",
    "print(\"Decision Tree Regression:\")\n",
    "print(\"R-squared:\", r_squared)"
   ]
  },
  {
   "cell_type": "markdown",
   "id": "492f509f",
   "metadata": {},
   "source": [
    "### 3.Random Forest Regression"
   ]
  },
  {
   "cell_type": "code",
   "execution_count": 48,
   "id": "2298aede",
   "metadata": {},
   "outputs": [
    {
     "name": "stdout",
     "output_type": "stream",
     "text": [
      "Random Forest Regression:\n",
      "R-squared: 0.9411248333057292\n"
     ]
    }
   ],
   "source": [
    "model = RandomForestRegressor(random_state=100)\n",
    "\n",
    "model.fit(X_train, y_train)\n",
    "y_pred = model.predict(X_test)\n",
    "\n",
    "r_squared = r2_score(y_test, y_pred)\n",
    "\n",
    "print(\"Random Forest Regression:\")\n",
    "print(\"R-squared:\", r_squared)"
   ]
  },
  {
   "cell_type": "markdown",
   "id": "a9addb80",
   "metadata": {},
   "source": [
    "Random  forrest has the best r2 score "
   ]
  },
  {
   "cell_type": "markdown",
   "id": "cde3956d",
   "metadata": {},
   "source": [
    "### 4.Gradient Boosting  Regression"
   ]
  },
  {
   "cell_type": "code",
   "execution_count": 49,
   "id": "16e1e9d6",
   "metadata": {},
   "outputs": [
    {
     "name": "stdout",
     "output_type": "stream",
     "text": [
      "Gradient Boosting Regression:\n",
      "R-squared: 0.8904278714032442\n"
     ]
    }
   ],
   "source": [
    "model = GradientBoostingRegressor(random_state=100)\n",
    "\n",
    "model.fit(X_train, y_train)\n",
    "y_pred = model.predict(X_test)\n",
    "\n",
    "r_squared = r2_score(y_test, y_pred)\n",
    "\n",
    "print(\"Gradient Boosting Regression:\")\n",
    "print(\"R-squared:\", r_squared)"
   ]
  },
  {
   "cell_type": "markdown",
   "id": "430f1c8e",
   "metadata": {},
   "source": [
    "# 9.Conclusion "
   ]
  },
  {
   "cell_type": "markdown",
   "id": "e720d894",
   "metadata": {},
   "source": [
    "The project involved collecting data and performing Exploratory Data Analysis (EDA) and feature engineering to prepare the dataset for analysis and prediction.<br><br>\n",
    "The successful completion of this project will help to understand and predict the selling price of a smartphone using other features.<br>\n",
    "The algorithms that I've used in this project are: Linear Regression, Decision Tree Regression, Random Foreset Regression, and Gradient Boosting Regression\n",
    "Linear Regression is easy to understand and implement and  provide a clear linear relationship between features and price.<br>\n",
    "Decision Tree Regression can capture complex, non-linear patterns in the data that linear regression might miss.<br>\n",
    "Random Foreset Regression often outperforms linear regression and decision trees individually by combining multiple decision trees . This also reduces overfitting.\n",
    "Gradient Boosting Regression often achieves superior prediction accuracy compared to other models by sequentially building an ensemble of weak decision trees, each focusing on correcting the errors of the previous trees.\n",
    "But in this case Random Foreset Regression gave us the best r2 score.<br><br>\n",
    "In conclusion, through data collection, preprocessing, feature engineering, and predictive modeling, the project aimed to enhance understanding and prediction of smartphone price. "
   ]
  },
  {
   "cell_type": "markdown",
   "id": "0c95cf39",
   "metadata": {},
   "source": [
    "project link  https://drive.google.com/drive/folders/1qOmRlCJ3RYARGQ9jd_aa2cInKfX86Erv?usp=sharing"
   ]
  },
  {
   "cell_type": "markdown",
   "id": "22e8c972",
   "metadata": {},
   "source": [
    "dataset link https://drive.google.com/drive/folders/1CV-uzKi2gFjtDApw-FkucMxjnjBBKbDm?usp=sharing"
   ]
  }
 ],
 "metadata": {
  "kernelspec": {
   "display_name": "Python 3 (ipykernel)",
   "language": "python",
   "name": "python3"
  },
  "language_info": {
   "codemirror_mode": {
    "name": "ipython",
    "version": 3
   },
   "file_extension": ".py",
   "mimetype": "text/x-python",
   "name": "python",
   "nbconvert_exporter": "python",
   "pygments_lexer": "ipython3",
   "version": "3.9.13"
  }
 },
 "nbformat": 4,
 "nbformat_minor": 5
}
